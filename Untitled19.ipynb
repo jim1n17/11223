{
  "nbformat": 4,
  "nbformat_minor": 0,
  "metadata": {
    "colab": {
      "provenance": [],
      "authorship_tag": "ABX9TyOV6cx6VFq/2MtuzL7sdSOl",
      "include_colab_link": true
    },
    "kernelspec": {
      "name": "python3",
      "display_name": "Python 3"
    },
    "language_info": {
      "name": "python"
    }
  },
  "cells": [
    {
      "cell_type": "markdown",
      "metadata": {
        "id": "view-in-github",
        "colab_type": "text"
      },
      "source": [
        "<a href=\"https://colab.research.google.com/github/jim1n17/11223/blob/main/Untitled19.ipynb\" target=\"_parent\"><img src=\"https://colab.research.google.com/assets/colab-badge.svg\" alt=\"Open In Colab\"/></a>"
      ]
    },
    {
      "cell_type": "code",
      "execution_count": 7,
      "metadata": {
        "colab": {
          "base_uri": "https://localhost:8080/"
        },
        "id": "b4L6wKQMknyH",
        "outputId": "6d007482-31c0-4daa-844f-56c74782bb7a"
      },
      "outputs": [
        {
          "output_type": "stream",
          "name": "stdout",
          "text": [
            "00000\n",
            "00000\n",
            "00000\n",
            "0@000\n",
            "00000\n",
            "00000\n"
          ]
        }
      ],
      "source": [
        "array=[[0]*5 for a in range(6)]\n",
        "\n",
        "array[3][1]=\"@\"\n",
        "\n",
        "for i in array:\n",
        "  for j in i:\n",
        "    print(j,end='')\n",
        "  print()\n"
      ]
    }
  ]
}