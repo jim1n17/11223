{
  "nbformat": 4,
  "nbformat_minor": 0,
  "metadata": {
    "colab": {
      "provenance": [],
      "authorship_tag": "ABX9TyMR7N6kI3rqBVY/8jDxvY4h",
      "include_colab_link": true
    },
    "kernelspec": {
      "name": "python3",
      "display_name": "Python 3"
    },
    "language_info": {
      "name": "python"
    }
  },
  "cells": [
    {
      "cell_type": "markdown",
      "metadata": {
        "id": "view-in-github",
        "colab_type": "text"
      },
      "source": [
        "<a href=\"https://colab.research.google.com/github/jim1n17/11223/blob/main/Untitled20.ipynb\" target=\"_parent\"><img src=\"https://colab.research.google.com/assets/colab-badge.svg\" alt=\"Open In Colab\"/></a>"
      ]
    },
    {
      "cell_type": "code",
      "execution_count": 7,
      "metadata": {
        "colab": {
          "base_uri": "https://localhost:8080/"
        },
        "id": "gIsMpNeWlQ8_",
        "outputId": "165a6559-afe5-4e59-c7e8-83addb69fcd5"
      },
      "outputs": [
        {
          "output_type": "stream",
          "name": "stdout",
          "text": [
            "[1, 2, 3, 4, 5, 6, 7, 'f', 'k']\n"
          ]
        }
      ],
      "source": [
        "a_list=[1,2,3,4,5,6,7,8,9,10]\n",
        "a_list.pop()\n",
        "a_list.pop()\n",
        "a_list.pop()\n",
        "a_list.append(\"f\")\n",
        "a_list.append(\"k\")\n",
        "a_list.append(\"d\")\n",
        "a_list.append(\"w\")\n",
        "a_list.append(\"z\")\n",
        "a_list.append(\"f\")\n",
        "a_list.append(\"g\")\n",
        "a_list.pop()\n",
        "a_list.pop()\n",
        "a_list.pop()\n",
        "a_list.pop()\n",
        "a_list.pop()\n",
        "print(a_list)"
      ]
    }
  ]
}