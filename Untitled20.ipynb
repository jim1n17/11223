{
  "nbformat": 4,
  "nbformat_minor": 0,
  "metadata": {
    "colab": {
      "provenance": [],
      "authorship_tag": "ABX9TyPaVu2Oo2+PzzlcuzOz+pD8",
      "include_colab_link": true
    },
    "kernelspec": {
      "name": "python3",
      "display_name": "Python 3"
    },
    "language_info": {
      "name": "python"
    }
  },
  "cells": [
    {
      "cell_type": "markdown",
      "metadata": {
        "id": "view-in-github",
        "colab_type": "text"
      },
      "source": [
        "<a href=\"https://colab.research.google.com/github/jim1n17/11223/blob/main/Untitled20.ipynb\" target=\"_parent\"><img src=\"https://colab.research.google.com/assets/colab-badge.svg\" alt=\"Open In Colab\"/></a>"
      ]
    },
    {
      "cell_type": "code",
      "execution_count": 4,
      "metadata": {
        "colab": {
          "base_uri": "https://localhost:8080/"
        },
        "id": "gIsMpNeWlQ8_",
        "outputId": "35939ac6-7a7c-4e8a-f59c-6bc419c2d6c3"
      },
      "outputs": [
        {
          "output_type": "stream",
          "name": "stdout",
          "text": [
            "[1, 2, 3, 1]\n",
            "3\n",
            "2\n",
            "[1]\n"
          ]
        }
      ],
      "source": [
        "a_list=[1,2,3]\n",
        "a_list.append(1)\n",
        "\n",
        "print(a_list)\n",
        "\n",
        "a_list.pop()\n",
        "print(a_list.pop())\n",
        "print(a_list.pop())\n",
        "print(a_list)"
      ]
    }
  ]
}