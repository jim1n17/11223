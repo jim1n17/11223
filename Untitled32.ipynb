{
  "nbformat": 4,
  "nbformat_minor": 0,
  "metadata": {
    "colab": {
      "provenance": [],
      "authorship_tag": "ABX9TyNejpc5SjZaLkH9f7horLRT",
      "include_colab_link": true
    },
    "kernelspec": {
      "name": "python3",
      "display_name": "Python 3"
    },
    "language_info": {
      "name": "python"
    }
  },
  "cells": [
    {
      "cell_type": "markdown",
      "metadata": {
        "id": "view-in-github",
        "colab_type": "text"
      },
      "source": [
        "<a href=\"https://colab.research.google.com/github/jim1n17/11223/blob/main/Untitled32.ipynb\" target=\"_parent\"><img src=\"https://colab.research.google.com/assets/colab-badge.svg\" alt=\"Open In Colab\"/></a>"
      ]
    },
    {
      "cell_type": "code",
      "execution_count": 2,
      "metadata": {
        "colab": {
          "base_uri": "https://localhost:8080/"
        },
        "id": "gkenVh6rHCqz",
        "outputId": "d0d97266-4a12-48e7-eaa6-0d45e7b4c939"
      },
      "outputs": [
        {
          "output_type": "stream",
          "name": "stdout",
          "text": [
            "[4, 1, 5, 3, 7]\n"
          ]
        }
      ],
      "source": [
        "arr=[7,4,5,1,3]\n",
        "\n",
        "for i in range(len(arr)):\n",
        "  for j in range(i):\n",
        "    if arr[j]>arr[j+1]:\n",
        "      arr[j],arr[j+1] = arr[j+1],arr[j]\n",
        "print(arr)"
      ]
    }
  ]
}