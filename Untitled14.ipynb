{
  "nbformat": 4,
  "nbformat_minor": 0,
  "metadata": {
    "colab": {
      "provenance": [],
      "authorship_tag": "ABX9TyP4KjQJwqB1TpGgUWgfr5Ww",
      "include_colab_link": true
    },
    "kernelspec": {
      "name": "python3",
      "display_name": "Python 3"
    },
    "language_info": {
      "name": "python"
    }
  },
  "cells": [
    {
      "cell_type": "markdown",
      "metadata": {
        "id": "view-in-github",
        "colab_type": "text"
      },
      "source": [
        "<a href=\"https://colab.research.google.com/github/jim1n17/11223/blob/main/Untitled14.ipynb\" target=\"_parent\"><img src=\"https://colab.research.google.com/assets/colab-badge.svg\" alt=\"Open In Colab\"/></a>"
      ]
    },
    {
      "cell_type": "code",
      "execution_count": 12,
      "metadata": {
        "colab": {
          "base_uri": "https://localhost:8080/"
        },
        "id": "6N4s6vDHHZdm",
        "outputId": "7bac9e37-7393-4361-b2e6-7ad0c9f4897d"
      },
      "outputs": [
        {
          "output_type": "stream",
          "name": "stdout",
          "text": [
            "UP & Down 게임시작\n",
            "------------------\n",
            "1~100숫자:32\n",
            "Down\n",
            "1~100숫자:20\n",
            "Down\n",
            "1~100숫자:15\n",
            "Down\n",
            "1~100숫자:7\n",
            "UP\n",
            "1~100숫자:12\n",
            "UP\n",
            "1~100숫자:13\n",
            "UP\n",
            "1~100숫자:14\n",
            "UP\n",
            "------------------\n",
            "7 번 만에 정답\n"
          ]
        }
      ],
      "source": [
        "import random\n",
        "rn=random.randrange(1,101,1)\n",
        "num=-1\n",
        "\n",
        "a= 0\n",
        "\n",
        "print(\"UP & Down 게임시작\")\n",
        "print(\"------------------\")\n",
        "while(rn != num):\n",
        "\n",
        "    num = int(input(\"1~100숫자:\"))\n",
        "\n",
        "    if (num>rn):\n",
        "      print(\"Down\")\n",
        "    elif(num<=rn):\n",
        "        print(\"UP\")\n",
        "    a +=1\n",
        "print(\"------------------\")\n",
        "print(a, \"번 만에 정답\")\n"
      ]
    }
  ]
}