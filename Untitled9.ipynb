{
  "nbformat": 4,
  "nbformat_minor": 0,
  "metadata": {
    "colab": {
      "provenance": [],
      "authorship_tag": "ABX9TyPio3/UuJ5kC/jRlCsH7ual",
      "include_colab_link": true
    },
    "kernelspec": {
      "name": "python3",
      "display_name": "Python 3"
    },
    "language_info": {
      "name": "python"
    }
  },
  "cells": [
    {
      "cell_type": "markdown",
      "metadata": {
        "id": "view-in-github",
        "colab_type": "text"
      },
      "source": [
        "<a href=\"https://colab.research.google.com/github/jim1n17/11223/blob/main/Untitled9.ipynb\" target=\"_parent\"><img src=\"https://colab.research.google.com/assets/colab-badge.svg\" alt=\"Open In Colab\"/></a>"
      ]
    },
    {
      "cell_type": "code",
      "execution_count": 9,
      "metadata": {
        "colab": {
          "base_uri": "https://localhost:8080/"
        },
        "id": "nj6ut-re2Kr1",
        "outputId": "e6b59dee-abe3-4210-aedf-f357ad82181d"
      },
      "outputs": [
        {
          "output_type": "stream",
          "name": "stdout",
          "text": [
            "입력라면\n",
            "기본라면(3500), 떡라면(4000), 만두라면(4000)\n"
          ]
        }
      ],
      "source": [
        "a = (input(\"입력\"))\n",
        " \n",
        "if a==\"라면\" :\n",
        "   print(\"기본라면(3500), 떡라면(4000), 만두라면(4000)\")\n",
        "elif a==\"김밥\" :\n",
        "  print(\"야채김밥(2500), 참치김밥(3500)\")\n",
        "else : print(\"올바른 메뉴를 입력\")     \n"
      ]
    }
  ]
}