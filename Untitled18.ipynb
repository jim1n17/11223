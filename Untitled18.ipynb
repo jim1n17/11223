{
  "nbformat": 4,
  "nbformat_minor": 0,
  "metadata": {
    "colab": {
      "provenance": [],
      "authorship_tag": "ABX9TyOOot0de4G0rFiCKHMQ6aex",
      "include_colab_link": true
    },
    "kernelspec": {
      "name": "python3",
      "display_name": "Python 3"
    },
    "language_info": {
      "name": "python"
    }
  },
  "cells": [
    {
      "cell_type": "markdown",
      "metadata": {
        "id": "view-in-github",
        "colab_type": "text"
      },
      "source": [
        "<a href=\"https://colab.research.google.com/github/jim1n17/11223/blob/main/Untitled18.ipynb\" target=\"_parent\"><img src=\"https://colab.research.google.com/assets/colab-badge.svg\" alt=\"Open In Colab\"/></a>"
      ]
    },
    {
      "cell_type": "code",
      "execution_count": 4,
      "metadata": {
        "colab": {
          "base_uri": "https://localhost:8080/"
        },
        "id": "DM9OWMxHSmqQ",
        "outputId": "afd6218f-746c-44e9-f556-3d48a31e5a2f"
      },
      "outputs": [
        {
          "output_type": "stream",
          "name": "stdout",
          "text": [
            "['1', '2', '3', '4', '', '5']\n",
            "3\n"
          ]
        }
      ],
      "source": [
        "\n",
        "abc = '1,2,3,4,,5'\n",
        "ddong =  abc.split(',')\n",
        "print(ddong)\n",
        "print(ddong[2])\n"
      ]
    },
    {
      "cell_type": "code",
      "source": [
        "num = int(input())\n",
        "if num>=0:\n",
        " while num <= 10:\n",
        "  print(num)\n",
        "  num = num + 1"
      ],
      "metadata": {
        "colab": {
          "base_uri": "https://localhost:8080/"
        },
        "id": "JybVHNSDWQQt",
        "outputId": "8d2b1dd0-0e3d-40ab-e1c3-8a53d8fef819"
      },
      "execution_count": 8,
      "outputs": [
        {
          "output_type": "stream",
          "name": "stdout",
          "text": [
            "10\n",
            "10\n"
          ]
        }
      ]
    },
    {
      "cell_type": "code",
      "source": [
        "a=int(input())\n",
        "for k in range(1,a,5):\n",
        "  print(k)"
      ],
      "metadata": {
        "colab": {
          "base_uri": "https://localhost:8080/"
        },
        "id": "0_De4F_VcoyD",
        "outputId": "8dad1348-163d-4f5d-b3d3-5a77f8c3bff7"
      },
      "execution_count": 9,
      "outputs": [
        {
          "output_type": "stream",
          "name": "stdout",
          "text": [
            "30\n",
            "1\n",
            "6\n",
            "11\n",
            "16\n",
            "21\n",
            "26\n"
          ]
        }
      ]
    },
    {
      "cell_type": "code",
      "source": [],
      "metadata": {
        "id": "Z-t2RFCSclcj"
      },
      "execution_count": null,
      "outputs": []
    }
  ]
}