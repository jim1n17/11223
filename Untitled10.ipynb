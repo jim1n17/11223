{
  "nbformat": 4,
  "nbformat_minor": 0,
  "metadata": {
    "colab": {
      "provenance": [],
      "authorship_tag": "ABX9TyOAhRShaBU2JBKDgtrF1O3r",
      "include_colab_link": true
    },
    "kernelspec": {
      "name": "python3",
      "display_name": "Python 3"
    },
    "language_info": {
      "name": "python"
    }
  },
  "cells": [
    {
      "cell_type": "markdown",
      "metadata": {
        "id": "view-in-github",
        "colab_type": "text"
      },
      "source": [
        "<a href=\"https://colab.research.google.com/github/jim1n17/11223/blob/main/Untitled10.ipynb\" target=\"_parent\"><img src=\"https://colab.research.google.com/assets/colab-badge.svg\" alt=\"Open In Colab\"/></a>"
      ]
    },
    {
      "cell_type": "code",
      "execution_count": 10,
      "metadata": {
        "colab": {
          "base_uri": "https://localhost:8080/"
        },
        "id": "SDv2S_Un79vk",
        "outputId": "7f34e314-60b2-41e0-eebd-9ab2f5bf9c9e"
      },
      "outputs": [
        {
          "output_type": "stream",
          "name": "stdout",
          "text": [
            "input first number : 2\n",
            "+\n",
            "input second number : 1\n",
            "2 + 1 = 3\n"
          ]
        }
      ],
      "source": [
        "\n",
        "a=int(input(\"input first number : \"))\n",
        "b=input()\n",
        "c=int(input(\"input second number : \"))\n",
        "\n",
        "if b==\"+\":\n",
        "  print(a,\"+\",c,\"=\",a+c)\n",
        "elif b==\"-\":\n",
        "  print(a,\"-\",c,\"=\",a-c)\n",
        "elif b==\"*\":\n",
        "  print(a,\"*\",c,\"=\",a*c)\n",
        "elif b==\"/\":\n",
        "  print(a,\"/\",c,\"=\",a/c)"
      ]
    }
  ]
}