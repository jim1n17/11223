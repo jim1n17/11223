{
  "nbformat": 4,
  "nbformat_minor": 0,
  "metadata": {
    "colab": {
      "provenance": [],
      "authorship_tag": "ABX9TyMhuxSE0xx3FmjRtCiKFoIn",
      "include_colab_link": true
    },
    "kernelspec": {
      "name": "python3",
      "display_name": "Python 3"
    },
    "language_info": {
      "name": "python"
    }
  },
  "cells": [
    {
      "cell_type": "markdown",
      "metadata": {
        "id": "view-in-github",
        "colab_type": "text"
      },
      "source": [
        "<a href=\"https://colab.research.google.com/github/jim1n17/11223/blob/main/Untitled10.ipynb\" target=\"_parent\"><img src=\"https://colab.research.google.com/assets/colab-badge.svg\" alt=\"Open In Colab\"/></a>"
      ]
    },
    {
      "cell_type": "code",
      "execution_count": 14,
      "metadata": {
        "colab": {
          "base_uri": "https://localhost:8080/"
        },
        "id": "SDv2S_Un79vk",
        "outputId": "674a832b-e4ea-46f6-97bd-0a8f06cfc3d5"
      },
      "outputs": [
        {
          "output_type": "stream",
          "name": "stdout",
          "text": [
            "input first number : 2\n",
            "**\n",
            "input second number : 2\n",
            "2 ** 2 = 4\n"
          ]
        }
      ],
      "source": [
        "a=int(input(\"input first number : \")) \n",
        "b=input()                            \n",
        "c=int(input(\"input second number : \"))\n",
        "\n",
        "if b==\"+\":                            \n",
        "  print(a,\"+\",c,\"=\",a+c)              \n",
        "elif b==\"-\":                          \n",
        "  print(a,\"-\",c,\"=\",a-c)              \n",
        "elif b==\"*\":                          \n",
        "  print(a,\"*\",c,\"=\",a*c)              \n",
        "elif b==\"/\":                         \n",
        "  print(a,\"/\",c,\"=\",a/c)              \n",
        "elif b==\"**\":                         \n",
        "  print(a,\"**\",c,\"=\",a**c)\n",
        "elif b==\"%\":                         \n",
        "  print(a,\"%\",c,\"=\",a%c)\n",
        "elif b==\"//\":                         \n",
        "  print(a,\"//\",c,\"=\",a//c)"
      ]
    }
  ]
}