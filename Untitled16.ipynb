{
  "nbformat": 4,
  "nbformat_minor": 0,
  "metadata": {
    "colab": {
      "provenance": [],
      "authorship_tag": "ABX9TyM2qxUS7HFSLjYPqCTLuevu",
      "include_colab_link": true
    },
    "kernelspec": {
      "name": "python3",
      "display_name": "Python 3"
    },
    "language_info": {
      "name": "python"
    }
  },
  "cells": [
    {
      "cell_type": "markdown",
      "metadata": {
        "id": "view-in-github",
        "colab_type": "text"
      },
      "source": [
        "<a href=\"https://colab.research.google.com/github/jim1n17/11223/blob/main/Untitled16.ipynb\" target=\"_parent\"><img src=\"https://colab.research.google.com/assets/colab-badge.svg\" alt=\"Open In Colab\"/></a>"
      ]
    },
    {
      "cell_type": "code",
      "execution_count": 8,
      "metadata": {
        "colab": {
          "base_uri": "https://localhost:8080/"
        },
        "id": "lffYxwxLJ84-",
        "outputId": "d0491a60-7d5f-48b6-bf72-604edc364fde"
      },
      "outputs": [
        {
          "output_type": "stream",
          "name": "stdout",
          "text": [
            "17\n",
            "13\n"
          ]
        }
      ],
      "source": [
        "a=17\n",
        "def test():\n",
        "  global a\n",
        "  a=13\n",
        "  print(a)\n",
        "print(a)\n",
        "test()\n"
      ]
    },
    {
      "cell_type": "code",
      "source": [
        "a=\"Letter a\"\n",
        "\n",
        "def f(a) :\n",
        "  print(\"A = \", a)\n",
        "\n",
        "def g() :\n",
        "  a=7\n",
        "  f(a + 1)\n",
        "  print(\"A =\", a)\n",
        "\n",
        "print(\"A = \", a)\n",
        "f(3.14)\n",
        "print(\"A = \", a)\n",
        "g()\n",
        "print(\"A = \", a)\n"
      ],
      "metadata": {
        "colab": {
          "base_uri": "https://localhost:8080/"
        },
        "id": "fS7_wAC8TP0q",
        "outputId": "aaa9c6f3-42f8-4de4-e81c-87e3389a9180"
      },
      "execution_count": 10,
      "outputs": [
        {
          "output_type": "stream",
          "name": "stdout",
          "text": [
            "A =  Letter a\n",
            "A =  3.14\n",
            "A =  Letter a\n",
            "A =  8\n",
            "A = 7\n",
            "A =  Letter a\n"
          ]
        }
      ]
    }
  ]
}