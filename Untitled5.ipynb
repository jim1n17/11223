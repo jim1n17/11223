{
  "nbformat": 4,
  "nbformat_minor": 0,
  "metadata": {
    "colab": {
      "provenance": [],
      "authorship_tag": "ABX9TyM4L623GVo+WZ3Fe0WP0GM1",
      "include_colab_link": true
    },
    "kernelspec": {
      "name": "python3",
      "display_name": "Python 3"
    },
    "language_info": {
      "name": "python"
    }
  },
  "cells": [
    {
      "cell_type": "markdown",
      "metadata": {
        "id": "view-in-github",
        "colab_type": "text"
      },
      "source": [
        "<a href=\"https://colab.research.google.com/github/jim1n17/11223/blob/main/Untitled5.ipynb\" target=\"_parent\"><img src=\"https://colab.research.google.com/assets/colab-badge.svg\" alt=\"Open In Colab\"/></a>"
      ]
    },
    {
      "cell_type": "code",
      "execution_count": 4,
      "metadata": {
        "colab": {
          "base_uri": "https://localhost:8080/"
        },
        "id": "NsX7KPmK5nJj",
        "outputId": "2a698057-057f-4276-c59b-98c1b798d668"
      },
      "outputs": [
        {
          "output_type": "stream",
          "name": "stdout",
          "text": [
            "1\n",
            "3\n",
            "A승\n"
          ]
        }
      ],
      "source": [
        "#가위 1\n",
        "#바위 2\n",
        "#보 3\n",
        "\n",
        "a =int(input())\n",
        "b =int(input())\n",
        "\n",
        "if a==1 and b==2 :\n",
        "  print(\"B승\")\n",
        "elif a==2 and b==1 :\n",
        "  print(\"A승\")\n",
        "elif a==2 and b==3 :\n",
        "  print(\"B승\")\n",
        "elif a==3 and b==2 :\n",
        "  print(\"A승\")\n",
        "elif a==1 and b==3 :\n",
        "  print(\"A승\")\n",
        "elif a==3 and b==1 :\n",
        "  print(\"B승\")  \n",
        "elif a==b :\n",
        "  print(\"무승부\") \n"
      ]
    }
  ]
}