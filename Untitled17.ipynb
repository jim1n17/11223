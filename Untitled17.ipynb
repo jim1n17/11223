{
  "nbformat": 4,
  "nbformat_minor": 0,
  "metadata": {
    "colab": {
      "provenance": [],
      "authorship_tag": "ABX9TyOTRcwCcxsCPlATCs0b8CxW",
      "include_colab_link": true
    },
    "kernelspec": {
      "name": "python3",
      "display_name": "Python 3"
    },
    "language_info": {
      "name": "python"
    }
  },
  "cells": [
    {
      "cell_type": "markdown",
      "metadata": {
        "id": "view-in-github",
        "colab_type": "text"
      },
      "source": [
        "<a href=\"https://colab.research.google.com/github/jim1n17/11223/blob/main/Untitled17.ipynb\" target=\"_parent\"><img src=\"https://colab.research.google.com/assets/colab-badge.svg\" alt=\"Open In Colab\"/></a>"
      ]
    },
    {
      "cell_type": "code",
      "execution_count": 2,
      "metadata": {
        "colab": {
          "base_uri": "https://localhost:8080/"
        },
        "id": "AoS3RHtGW3B3",
        "outputId": "d3001209-8eba-4f74-ea4d-21623e3d9d5d"
      },
      "outputs": [
        {
          "output_type": "stream",
          "name": "stdout",
          "text": [
            "수\n",
            "A\n"
          ]
        }
      ],
      "source": [
        "n=input()\n",
        "\n",
        "if n==\"수\":\n",
        "  print(\"A\")\n",
        "elif n==\"우\":\n",
        "  print(\"B\")\n",
        "elif n==\"미\":\n",
        "  print(\"C\")\n",
        "elif n==\"양\":\n",
        "  print(\"D\")\n",
        "elif n==\"가\":\n",
        "  print(\"E\")"
      ]
    }
  ]
}